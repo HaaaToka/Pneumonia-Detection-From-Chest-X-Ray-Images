{
 "cells": [
  {
   "cell_type": "markdown",
   "metadata": {},
   "source": [
    "# Pneumonia Detection From Chest X-Ray Images\n",
    "\n",
    "### Group Members\n",
    "\n",
    "#### Okan ALAN : 21526638\n",
    "#### Batuhan METE : 21627538\n",
    "\n",
    "Abstract of the project comes here."
   ]
  },
  {
   "cell_type": "code",
   "execution_count": null,
   "metadata": {},
   "outputs": [],
   "source": []
  },
  {
   "cell_type": "markdown",
   "metadata": {},
   "source": [
    "## Table of Content\n",
    "\n",
    "[Problem](#problem)   \n",
    "[Data Understanding](#data_understanding)   \n",
    "[Data Preparation](#data_preparation)   \n",
    "[Modeling](#modeling)   \n",
    "[Evaluation](#evaluation)   \n",
    "[References](#references)   \n"
   ]
  },
  {
   "cell_type": "code",
   "execution_count": null,
   "metadata": {},
   "outputs": [],
   "source": []
  },
  {
   "cell_type": "markdown",
   "metadata": {},
   "source": [
    "## Problem <a class=\"anchor\" id=\"problem\"></a>"
   ]
  },
  {
   "cell_type": "markdown",
   "metadata": {},
   "source": [
    "When we learned that the project theme is health, we couldn't choice the project topic. Then the COVID-19 virus situation evolved. We tought we can use covid-19 data into our project because it is a viral topic but we hearded some groups already sent their project ideas to you. When we research a dataset for COVID-19 we learned symptoms of pneumonia is same. After that, we changed the our topic. We select the pneumonia problem."
   ]
  },
  {
   "cell_type": "markdown",
   "metadata": {},
   "source": [
    "#### What is the Pneumonia?\n",
    "\n",
    "Pneumonia is a lung infection that can range from mild to so severe that you have to go to the hospital. It happens when an infection causes the air sacs in your lungs (your doctor will call them alveoli) to fill with fluid or pus. That can make it hard for you to breathe in enough oxygen to reach your bloodstream. Anyone can get this lung infection. But infants younger than age 2 and people over age 65 are at higher risk. That’s because their immune systems might not be strong enough to fight it. Causes include bacteria, viruses, and fungi.  If your pneumonia results from bacteria or a virus, you can spread it to someone else. Lifestyle habits, like smoking cigarettes and drinking too much alcohol, can also raise your chances of getting pneumonia."
   ]
  },
  {
   "cell_type": "markdown",
   "metadata": {},
   "source": [
    "#### Symptoms of Pneumonia\n",
    "\n",
    "Symptoms can vary depending on what’s causing pneumonia, age, and overall health. They usually develop over several days.\n",
    "\n",
    "**Common pneumonia symptoms include:**\n",
    "\n",
    "- Chest pain when you breathe or cough\n",
    "- Cough that produces phlegm or mucus\n",
    "- Fatigue and loss of appetite\n",
    "- Fever, sweating, and chills\n",
    "- Nausea, vomiting, and diarrhea\n",
    "- Shortness of breath\n",
    "\n",
    "Along with these symptoms, older adults and people with weak immune systems might be confused or have changes in mental awareness, or they might have a lower-than-usual body temperature. Newborns and infants may not show any signs of infection. Or they might vomit, have a fever and a cough, and seem restless or tired.\n",
    "\n",
    "**Attention Please** If you have a new cough, fever, or shortness of breath, call your doctor to ask about whether it could be COVID-19. Illness with the new coronavirus can also lead to pneumonia."
   ]
  },
  {
   "cell_type": "markdown",
   "metadata": {},
   "source": [
    "Pneumonia is typically diagnosed based on a combination of physical signs and a chest X-ray. In adults with normal vital signs and a normal lung examination, the diagnosis is unlikely. However, the underlying cause can be difficult to confirm, as there is no definitive test able to distinguish between bacterial and non-bacterial origin. The overall impression of a physician appears to be at least as good as decision rules for making or excluding the diagnosis.\n",
    "\n",
    "A chest radiograph is frequently used in diagnosis. In people with mild disease, imaging is needed only in those with potential complications, those not having improved with treatment or those in which the cause is uncertain. If a person is sufficiently sick to require hospitalization, a chest radiograph is recommended. Findings do not always match the severity of disease and do not reliably separate between bacterial infection and viral infection."
   ]
  },
  {
   "cell_type": "markdown",
   "metadata": {},
   "source": [
    "We had two different types of datasets for this topic. The first one was consisting of yes/no answers to the above symptoms. Another one was the Chest X-Ray images. Instead of using the first way, we decided to use a labeled dataset that contains X-Ray images."
   ]
  },
  {
   "cell_type": "markdown",
   "metadata": {},
   "source": [
    "## Data Understanding<a class=\"anchor\" id=\"data_understanding\"></a>"
   ]
  },
  {
   "cell_type": "markdown",
   "metadata": {},
   "source": [
    "Our dataset is Labeled Optical Coherence Tomography (OCT) and Chest X-Ray Images for Classification. There are 3 verisions. We used version 2. This dataset is prepared by Universtiy of UC San Diego.\n",
    "\n",
    "**Description**\n",
    "\n",
    "Dataset of validated OCT and Chest X-Ray images described and analyzed in \"Deep learning-based classification and referral of treatable human diseases\". The OCT Images are split into a training set and a testing set of independent patients. OCT Images are labeled as (disease)-(randomized patient ID)-(image number by this patient) and split into 4 directories: CNV, DME, DRUSEN, and NORMAL. We used only X-Ray Images."
   ]
  },
  {
   "cell_type": "markdown",
   "metadata": {},
   "source": [
    "**Content**\n",
    "\n",
    "The dataset is organized into 3 folders (train, test, val) and contains subfolders for each image category (Pneumonia/Normal). There are 5,856 X-Ray images (JPEG) and 2 categories (Pneumonia/Normal).\n",
    "\n",
    "For the analysis of chest x-ray images, all chest radiographs were initially screened for quality control by removing all low quality or unreadable scans. The diagnoses for the images were then graded by two expert physicians before being cleared for training the AI system. In order to account for any grading errors, the evaluation set was also checked by a third expert.\n",
    "\n",
    "|            | Normal Count | Pneumonia Count | Total |\n",
    "|------------|--------------|-----------------|-------|\n",
    "| Train      | 1341         | 3875            | 5216  |\n",
    "| Validation | 8            | 8               | 16    |\n",
    "| Test       | 234          | 390             | 624   |\n",
    "| Total      | 1583         | 4273            | 5856  |"
   ]
  },
  {
   "cell_type": "markdown",
   "metadata": {},
   "source": []
  },
  {
   "cell_type": "markdown",
   "metadata": {},
   "source": [
    "## Data Preparation<a class=\"anchor\" id=\"data_preparation\"></a>"
   ]
  },
  {
   "cell_type": "code",
   "execution_count": null,
   "metadata": {},
   "outputs": [],
   "source": []
  },
  {
   "cell_type": "markdown",
   "metadata": {},
   "source": [
    "Explain what kind of data transformations, feature selection and/or engineering you will perform."
   ]
  },
  {
   "cell_type": "code",
   "execution_count": null,
   "metadata": {},
   "outputs": [],
   "source": []
  },
  {
   "cell_type": "markdown",
   "metadata": {},
   "source": [
    "## Modeling<a class=\"anchor\" id=\"modeling\"></a>"
   ]
  },
  {
   "cell_type": "code",
   "execution_count": null,
   "metadata": {},
   "outputs": [],
   "source": []
  },
  {
   "cell_type": "markdown",
   "metadata": {},
   "source": [
    "Which model will be used? Why? What parameters?"
   ]
  },
  {
   "cell_type": "code",
   "execution_count": null,
   "metadata": {},
   "outputs": [],
   "source": []
  },
  {
   "cell_type": "code",
   "execution_count": null,
   "metadata": {},
   "outputs": [],
   "source": []
  },
  {
   "cell_type": "markdown",
   "metadata": {},
   "source": [
    "## Evaluation<a class=\"anchor\" id=\"evaluation\"></a>"
   ]
  },
  {
   "cell_type": "code",
   "execution_count": null,
   "metadata": {},
   "outputs": [],
   "source": []
  },
  {
   "cell_type": "markdown",
   "metadata": {},
   "source": [
    "Evaluate your model. Provide results, tables, charts, etc."
   ]
  },
  {
   "cell_type": "code",
   "execution_count": null,
   "metadata": {},
   "outputs": [],
   "source": []
  },
  {
   "cell_type": "markdown",
   "metadata": {},
   "source": [
    "## References<a class=\"anchor\" id=\"references\"></a>"
   ]
  },
  {
   "cell_type": "markdown",
   "metadata": {},
   "source": [
    "https://www.webmd.com/lung/understanding-pneumonia-basics#1 => What is the Pneumonia?\n",
    "https://en.wikipedia.org/wiki/Pneumonia => same above\n",
    "https://www.who.int/news-room/fact-sheets/detail/pneumonia => same above\n",
    "\n",
    "https://data.mendeley.com/datasets/rscbjbr9sj/2 => dataset\n",
    "https://www.kaggle.com/paultimothymooney/chest-xray-pneumonia => kaggle competition that used the same dataset\n",
    "\n",
    "https://towardsdatascience.com/a-comprehensive-guide-to-convolutional-neural-networks-the-eli5-way-3bd2b1164a53 https://machinelearnings.co/this-is-part-3-in-a-series-of-posts-on-artificial-intelligence-and-deep-learning-neural-networks-702bbb335605 https://www.machinecurve.com/index.php/2018/12/07/convolutional-neural-networks-and-their-components-for-computer-vision/# => these 3 for CNN concept\n",
    "\n",
    "https://towardsdatascience.com/visualizing-intermediate-activation-in-convolutional-neural-networks-with-keras-260b36d60d0 => intermediate layer output"
   ]
  },
  {
   "cell_type": "markdown",
   "metadata": {},
   "source": [
    "List all the sources you used during your work.\n",
    "This includes jupyter notebooks you found on Internet.\n",
    "Remeber, your work may not be an original one. However, this document must be genuine. Copy and paste kind of deliveries will be punished badly."
   ]
  },
  {
   "cell_type": "code",
   "execution_count": null,
   "metadata": {},
   "outputs": [],
   "source": []
  },
  {
   "cell_type": "markdown",
   "metadata": {},
   "source": [
    "\n",
    "**Disclaimer!** <font color='grey'>This notebook was prepared by <student name(s)> as a term project for the *BBM469 - Data Intensive Applications Laboratory* class. The notebook is available for educational purposes only. There is no guarantee on the correctness of the content provided as it is a student work.\n",
    "\n",
    "If you think there is any copyright violation, please let us [know](https://forms.gle/BNNRB2kR8ZHVEREq8). \n",
    "</font>"
   ]
  }
 ],
 "metadata": {
  "kernelspec": {
   "display_name": "Python 3",
   "language": "python",
   "name": "python3"
  },
  "language_info": {
   "codemirror_mode": {
    "name": "ipython",
    "version": 3
   },
   "file_extension": ".py",
   "mimetype": "text/x-python",
   "name": "python",
   "nbconvert_exporter": "python",
   "pygments_lexer": "ipython3",
   "version": "3.8.1"
  }
 },
 "nbformat": 4,
 "nbformat_minor": 2
}
