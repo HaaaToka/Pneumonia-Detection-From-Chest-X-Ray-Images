{
 "cells": [
  {
   "cell_type": "markdown",
   "metadata": {},
   "source": [
    "# Projenin başlığı\n",
    "\n",
    "#### Öğrenci ad(lar)ı\n",
    "\n",
    "Abstract of the project comes here."
   ]
  },
  {
   "cell_type": "code",
   "execution_count": null,
   "metadata": {},
   "outputs": [],
   "source": []
  },
  {
   "cell_type": "markdown",
   "metadata": {},
   "source": [
    "## İçerik\n",
    "\n",
    "[Problem](#problem)   \n",
    "[Verinin Anlaşılması](#data_understanding)   \n",
    "[Verilerin Hazırlanması](#data_preparation)   \n",
    "[Modelleme](#modeling)   \n",
    "[Değerlendirme](#evaluation)   \n",
    "[Referanslar](#references)   \n"
   ]
  },
  {
   "cell_type": "markdown",
   "metadata": {},
   "source": [
    "## Problem <a class=\"anchor\" id=\"problem\"></a>"
   ]
  },
  {
   "cell_type": "markdown",
   "metadata": {},
   "source": [
    "Proje konusunun sağlık olduğunu oğrendiğimizde yapacağımız konu hakkında çok fazla fikrimiz yoktu, ta ki Covid-19 yaşanana kadar. Başka grupların da Covid-19 konusunu kullandığını gördüğümüzde Covid-19 datasetini incelemeye karar verdik. Dataset de fark ettik ki Covid-19'un sonuçlarından biri de zatürre hastalığı. Bu yüzden projemizde fotograf işlemeden zatürre tespit etme konusunu seçtik."
   ]
  },
  {
   "cell_type": "markdown",
   "metadata": {},
   "source": [
    "#### Zatürre nedir?\n",
    "\n",
    "Pnömoni, hastaneye gitmeniz gereken hafif ila şiddetli arasında değişebilen bir akciğer enfeksiyonudur. Bir enfeksiyon akciğerlerinizdeki hava keselerinin (doktorunuz alveol olarak adlandırır) sıvı veya irin ile doldurmasına neden olduğunda olur. Bu, kan dolaşımınıza yeterli oksijen ulaşmasına engel olur ve nefes almanızı zorlaştırabilir. Herkes bu akciğer enfeksiyonuna yakalanabilir. Ancak 2 yaşından küçük bebekler ve 65 yaş üstü insanlar daha yüksek risk altındadır çünkü bağışıklık sistemleri onunla savaşacak kadar güçlü olmayabilir. Hastalığın sebepleri bakteri, virüs ve mantarlardır. Eğer zatürre bakteri veya virüsden kaynaklanıyorsa bulaşıcıdır. Sigara içmek ve çok fazla alkol almak  da zatürree olma şansınızı artırabilir.\n"
   ]
  },
  {
   "cell_type": "markdown",
   "metadata": {},
   "source": [
    "#### Pnömoni Belirtileri\n",
    "\n",
    "Semptomlar, yaş ve genel sağlık ve zatürreye neyin sebep olduğuna bağlı olarak değişebilir. Genellikle birkaç gün içinde gelişirler.\n",
    "\n",
    "** Yaygın pnömoni belirtileri şunları içerir: **\n",
    "\n",
    "- Nefes alırken veya öksürürken göğüs ağrısı\n",
    "- Balgam veya mukus üreten öksürük\n",
    "- Yorgunluk ve iştahsızlık\n",
    "- Ateş, terleme ve titreme\n",
    "- Bulantı, kusma ve ishal\n",
    "- Nefes darlığı\n",
    "\n",
    "Bu semptomlarla birlikte, yaşlılar ve bağışıklık sistemi zayıf olan insanlarda kafa karışıklığı, zihinsel değişiklikler veya normalden daha düşük bir vücut görülebilir. Yenidoğan ve bebeklerde herhangi bir enfeksiyon belirtisi görülmeyebileceği gibi kusma, ateş, öksürük ve halsizlik görülebilir.\n",
    "\n",
    "** Dikkat Lütfen ** Yeni bir öksürük, ateş veya nefes darlığı şikayetiniz varsa, COVID-19 olup olmadığınızı anlamak için doktorunuzu arayın. COVID-19 hastalığı pnömoniye de neden olabilir."
   ]
  },
  {
   "cell_type": "markdown",
   "metadata": {},
   "source": [
    "Pnömoni tipik fiziksel belirtiler ve göğüs röntgeni kombinasyonuna dayanarak teşhis edilir. Normal yaşamsal bulguları ve normal akciğer muayenesi olan yetişkinlerde tanı olası değildir. Bununla birlikte, zatürre altında yatan nedenin doğrulanması zor olabilir, çünkü bakteriyel ve bakteriyel olmayan kökenleri ayırt edebilecek kesin bir test yoktur. Bu konudaki en olası sonuç bir doktorun genel izlenimi ve teşhisidir.\n",
    "\n",
    "Tanıda göğüs radyografisi sıklıkla kullanılır. Hafif hastalığı olan kişilerde, görüntüleme sadece potansiyel komplikasyonları olan, tedavi ile düzelmeyen veya nedeninin belirsiz olduğu hastalarda gereklidir. Bir kişi hastaneye yatmayı gerektirecek kadar hastaysa, göğüs radyografisi önerilir. Bulgular her zaman hastalığın ciddiyetine uymaz ve bakteriyel enfeksiyon ile viral enfeksiyon arasında güvenilir bir şekilde ayrılmaz."
   ]
  },
  {
   "cell_type": "markdown",
   "metadata": {},
   "source": [
    "Bu konu için iki farklı veri setimiz vardı. Birincisi yukarıdaki semptomlara evet / hayır cevaplarından oluşuyordu. Bir diğeri Göğüs Röntgeni görüntüleri idi. İlk yolu kullanmak yerine, X-Ray görüntüleri içeren etiketli bir veri kümesi kullanmaya karar verdik."
   ]
  },
  {
   "cell_type": "markdown",
   "metadata": {},
   "source": [
    "## Verinin Anlaşılması<a class=\"anchor\" id=\"data_understanding\"></a>"
   ]
  },
  {
   "cell_type": "markdown",
   "metadata": {},
   "source": [
    "Veri setimiz, Sınıflandırma için Etiketli Optik Koherens Tomografi (OCT) ve Göğüs Röntgeni Görüntüleridir.Bu projede, veri setindeki 2. sürümü kullandık. Bu veri kümesi UC San Diego Üniversitesi'nden hazırlanmıştır.\n",
    "\n",
    "**Açıklama**\n",
    "\n",
    "\"Derin öğrenme temelli sınıflandırma ve tedavi edilebilir insan hastalıklarının yönlendirilmesi\" bölümünde açıklanan ve analiz edilen doğrulanmış OCT ve Göğüs Röntgeni görüntülerinin veri seti, bir eğitim setine ve bağımsız hastaların test setine ayrılmıştır. OCT Görüntüler (hastalık) - (randomize hasta kimliği) - (bu hastanın görüntü numarası) olarak etiketlenir ve 4 dizine ayrılır: CNV, DME, DRUSEN ve NORMAL.Bu projede sadece röntgen görüntüleri kullandık."
   ]
  },
  {
   "cell_type": "markdown",
   "metadata": {},
   "source": [
    "**İçerik**\n",
    "\n",
    "Veri kümesi 3 klasör halinde düzenlemiştir (train, test, val) ve her görüntü kategorisi için alt klasörler içerir (Pnömoni / Normal). Toplam 5.856 X-Ray görüntüsü (JPEG) ve 2 kategori (Pnömoni / Normal) içermektedir.\n",
    "\n",
    "Göğüs röntgeni görüntülerinin analizi için tüm göğüs radyografileri başlangıçta tüm düşük kaliteli veya okunamayan taramaları kaldırarak kalite kontrolü açısından tarandı. Görüntüler için teşhisler daha sonra AI sistemini eğitmek için temizlenmeden önce iki uzman doktor tarafından derecelendirildi. Notlandırma hatalarını hesaba katmak için değerlendirme seti üçüncü bir uzman tarafından da kontrol edildi.\n",
    "\n",
    "|            | Normal Sayısı| Zatürre Sayısı  | Toplam|\n",
    "|------------|--------------|-----------------|-------|\n",
    "| Eğitim     | 1349         | 3883            | 5232  |\n",
    "| Test       | 234          | 390             | 624   |\n",
    "| Toplam     | 1583         | 4273            | 5856  |"
   ]
  },
  {
   "cell_type": "markdown",
   "metadata": {},
   "source": [
    "## Verilerin Hazırlanması <a class=\"anchor\" id=\"data_preparation\"></a>"
   ]
  },
  {
   "cell_type": "markdown",
   "metadata": {},
   "source": [
    "Projede 3 farklı makine öğrenimi modeli kullandık. Bunlar, deneme yanılma yoluyla bizim tarafımızdan oluşturulan K-En Yakın Komşular (KNN), Konvolüsyon Sinir Ağı (CNN) ve 2014 yılında ImageNet yarışmasını kazanmak için kullanılan CNN mimarisi olan VGG16'dır. Burada sadece 2 ana model var diyebilirsiniz ancak bir sonraki bölümde neden 3 dediğimizi açıklayacağız. Yaptığımız araştırmalara dayanarak veri setimizi kodlamadan önce eğitim ve test olarak ayırdık.\n",
    "\n",
    "- Herhangi bir şey yapmadan önce veri kümesini bölme\n",
    "- Başlatılan her model için veri kümesini rastgele bölme\n",
    "\n",
    "İkinci seçeneğin kararlı olmadığını biliyoruz çünkü eğitilmiş görüntüler her koşu için değişiyor, ancak biz projemizde  3 farklı model kullandık ve bu modelleri sağlıklı bir şekilde karşılaştırabilmemiz için bütün resimlerin aynı sekilde dağıtılmış olması gerekiyor. Bu şekilde modeller arasında daha iyi analiz yaptık."
   ]
  },
  {
   "cell_type": "markdown",
   "metadata": {},
   "source": [
    "\n",
    "Kullandığımız veri kümesi neredeyse altı bin görüntüden oluşuyor. Görünülü veri setlerine uygulanabilen ön işleme yöntemleri sayısal veri kümelerine göre daha azdır. Görüntüler üzerinde ön işleme için birkaç seçeneğimiz var. Bunlar her görüntü için döndürme, kaydırma, kesme, yakınlaştırma, yeniden ölçekleme, parlaklıktır. Bu seçenekleri ayrı ayrı veya bir kaç tanesini aynı anda olacak sekilde kullandık. Ne yazık ki, bu değişiklikler tahmin sonuçlarımızı yükseltmedi. Bazı kombinasyonlar sonuçlarımızın doğruluğunu neredeyse yarıya düşürdü, kalan kombinasyonlar ise ilgili modelin en yüksek puanına yaklaştı, ancak hiç geçmedi. Hangi ön işlemenin doğruluk sonucumuzu nasıl etkilediğine bakalım.\n",
    "\n",
    "- ** Yatay Çevirme: ** Skoru önemli ölçüde etkilemedi.\n",
    "- ** Dikey Çevirme: ** Skoru olumsuz etkiledi. Skor neredeyse 10% azaldı.\n",
    "- ** Yakınlaştırma: ** 20% yakınlaştırmadan sonra puanda önemli bir düşüş meydana geldi\n",
    "- ** Vites değiştirme: ** Sağ-sol ve yukarı-aşağı yön gibi 2 seçeneği vardır. Sonuç üzerinde önemli bir etkisi olmadı\n",
    "- ** Rotasyon: ** 15% rotasyondan sonra, skorda önemli bir düşüş meydana geldi\n",
    "- ** Parlaklık: ** çok fazla arttırıldığında sonuçlarda önemli bir düşüş meydana geldi, aksi takdirde çok fazla bir etkisi olmadı. Parlaklık arttığında programın verdipi pnömoni tahmini arttı, çünkü Parlaklık arttığında koyulaşmalar azalır ve bu karartmalar sağlıklı bir akciğer için önemlidir. Akciğer ne kadar belirgin olursa o kadar sağlıklı demektir. Bu yüzden yanlış sonuç oranı arttı.\n",
    "- ** Yeniden ölçeklendirme: ** Eğitim hızını arttırdı :). Her model için sadece 1/255 ölçekleme parametresiyle bunu kullandık.\n",
    "- ** ZCA Beyazlatma ** Etkisi anlaşılmadı\n",
    "\n",
    "Bu ön işlemler sadece eğitim süremizi artırdı. Bu nedenle herhangi bir ön işleme kullanmadık."
   ]
  },
  {
   "cell_type": "code",
   "execution_count": null,
   "metadata": {},
   "outputs": [],
   "source": []
  },
  {
   "cell_type": "markdown",
   "metadata": {},
   "source": [
    "## Modelleme <a class=\"anchor\" id=\"modeling\"></a>"
   ]
  },
  {
   "cell_type": "code",
   "execution_count": null,
   "metadata": {},
   "outputs": [],
   "source": []
  },
  {
   "cell_type": "markdown",
   "metadata": {},
   "source": [
    "Which model will be used? Why? What parameters?"
   ]
  },
  {
   "cell_type": "markdown",
   "metadata": {},
   "source": [
    "## VGG16"
   ]
  },
  {
   "cell_type": "markdown",
   "metadata": {},
   "source": [
    "Uygulamalarımızdan birinde VGG-16 kullandık. VGG-16, 2014 yılında bir görüntü işleme yarışması kazanmak için kullanılan bir CNN mimarisidir. Bu mimari, o zamanın en iyi görüntü işleme mimarisinden biri olarak kabul edilir.\n",
    "\n",
    "Giriş sabit ve 224 x 224 RGB görüntü formatında. Daha sonra görüntü, filtrelerin 3x3 alıcı bir alanla kullanıldığı bir evrişim katmanları kümesini geçer. Bu, dikey, yatay ve merkez yakalamak için en küçük boyuttur.\n",
    "\n",
    "Üç FC katmanı bir yığın evrişim katmanını takip eder. İlk ikisi 4096 kanala sahiptir, üçüncüsü 100 yollu ILSVRC sınıflandırmasına sahiptir ve toplam 1000 sınıf olacak şekilde her sınıf için bir tane içerir. Son katman ise soft-max katmanıdır. Bağlı katmanların yapılandırması tüm ağlarda aynıdır.\n",
    "\n",
    "Tüm gizli katmanlar doğrusal olmayan ReLU ile donatılmıştır.\n",
    "Bu mimarinin en büyük dezavantajı, veriyi eğitmenin çok fazla zaman alması ve ağın çok büyük boyutta olmasıdır.\n",
    "Mimarlığın görsel temsilini aşağıda görebilirsiniz."
   ]
  },
  {
   "cell_type": "markdown",
   "metadata": {},
   "source": [
    "## Değerlendirme <a class=\"anchor\" id=\"evaluation\"></a>"
   ]
  },
  {
   "cell_type": "code",
   "execution_count": null,
   "metadata": {},
   "outputs": [],
   "source": []
  },
  {
   "cell_type": "markdown",
   "metadata": {},
   "source": [
    "Evaluate your model. Provide results, tables, charts, etc."
   ]
  },
  {
   "cell_type": "code",
   "execution_count": null,
   "metadata": {},
   "outputs": [],
   "source": []
  },
  {
   "cell_type": "code",
   "execution_count": null,
   "metadata": {},
   "outputs": [],
   "source": []
  },
  {
   "cell_type": "markdown",
   "metadata": {},
   "source": [
    "## Referanslar<a class=\"anchor\" id=\"references\"></a>"
   ]
  },
  {
   "cell_type": "code",
   "execution_count": null,
   "metadata": {},
   "outputs": [],
   "source": []
  },
  {
   "cell_type": "markdown",
   "metadata": {},
   "source": [
    "List all the sources you used during your work.\n",
    "This includes jupyter notebooks you found on Internet.\n",
    "Remeber, your work may not be an original one. However, this document must be genuine. Copy and paste kind of deliveries will be punished badly."
   ]
  },
  {
   "cell_type": "code",
   "execution_count": null,
   "metadata": {},
   "outputs": [],
   "source": []
  },
  {
   "cell_type": "markdown",
   "metadata": {},
   "source": [
    "\n",
    "**Disclaimer!** <font color='grey'>This notebook was prepared by <student name(s)> as a term project for the *BBM469 - Data Intensive Applications Laboratory* class. The notebook is available for educational purposes only. There is no guarantee on the correctness of the content provided as it is a student work.\n",
    "\n",
    "If you think there is any copyright violation, please let us [know](https://forms.gle/BNNRB2kR8ZHVEREq8). \n",
    "</font>"
   ]
  }
 ],
 "metadata": {
  "kernelspec": {
   "display_name": "Python 3",
   "language": "python",
   "name": "python3"
  },
  "language_info": {
   "codemirror_mode": {
    "name": "ipython",
    "version": 3
   },
   "file_extension": ".py",
   "mimetype": "text/x-python",
   "name": "python",
   "nbconvert_exporter": "python",
   "pygments_lexer": "ipython3",
   "version": "3.7.7"
  }
 },
 "nbformat": 4,
 "nbformat_minor": 2
}
