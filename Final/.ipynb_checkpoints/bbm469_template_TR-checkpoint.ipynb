{
 "cells": [
  {
   "cell_type": "markdown",
   "metadata": {},
   "source": [
    "#  Göğüz X-Ray Resimlerinden Zatürre Tespit\n",
    "\n",
    "### Grup Üyeleri\n",
    "\n",
    "#### Okan ALAN : 21526638\n",
    "#### Batuhan METE : 21627538\n",
    "\n",
    "![https://media.giphy.com/media/ihpWHmgndDX6Vmcnj0/giphy.gif](https://media.giphy.com/media/ihpWHmgndDX6Vmcnj0/giphy.gif)"
   ]
  },
  {
   "cell_type": "markdown",
   "metadata": {},
   "source": [
    "## İçerik\n",
    "\n",
    "[Problem](#problem)   \n",
    "[Verinin Anlaşılması](#data_understanding)   \n",
    "[Verilerin Hazırlanması](#data_preparation)   \n",
    "[Modelleme](#modeling)   \n",
    "[Değerlendirme](#evaluation)   \n",
    "[Referanslar](#references)   \n"
   ]
  },
  {
   "cell_type": "markdown",
   "metadata": {},
   "source": [
    "## Problem <a class=\"anchor\" id=\"problem\"></a>"
   ]
  },
  {
   "cell_type": "markdown",
   "metadata": {},
   "source": [
    "Proje konusunun sağlık olduğunu oğrendiğimizde yapacağımız konu hakkında çok fazla fikrimiz yoktu, ta ki Covid-19 yaşanana kadar. Başka grupların da Covid-19 konusunu kullandığını gördüğümüzde Covid-19 datasetini incelemeye karar verdik. Dataset de fark ettik ki Covid-19'un sonuçlarından biri de zatürre hastalığı. Bu yüzden projemizde fotograf işlemeden zatürre tespit etme konusunu seçtik."
   ]
  },
  {
   "cell_type": "markdown",
   "metadata": {},
   "source": [
    "#### Zatürre nedir?\n",
    "\n",
    "Pnömoni, hastaneye gitmeniz gereken hafif ila şiddetli arasında değişebilen bir akciğer enfeksiyonudur. Bir enfeksiyon akciğerlerinizdeki hava keselerinin (doktorunuz alveol olarak adlandırır) sıvı veya irin ile doldurmasına neden olduğunda olur. Bu, kan dolaşımınıza yeterli oksijen ulaşmasına engel olur ve nefes almanızı zorlaştırabilir. Herkes bu akciğer enfeksiyonuna yakalanabilir. Ancak 2 yaşından küçük bebekler ve 65 yaş üstü insanlar daha yüksek risk altındadır çünkü bağışıklık sistemleri onunla savaşacak kadar güçlü olmayabilir. Hastalığın sebepleri bakteri, virüs ve mantarlardır. Eğer zatürre bakteri veya virüsden kaynaklanıyorsa bulaşıcıdır. Sigara içmek ve çok fazla alkol almak  da zatürree olma şansınızı artırabilir.\n"
   ]
  },
  {
   "cell_type": "markdown",
   "metadata": {},
   "source": [
    "#### Pnömoni Belirtileri\n",
    "\n",
    "Semptomlar, yaş ve genel sağlık ve zatürreye neyin sebep olduğuna bağlı olarak değişebilir. Genellikle birkaç gün içinde gelişirler.\n",
    "\n",
    "** Yaygın pnömoni belirtileri şunları içerir: **\n",
    "\n",
    "- Nefes alırken veya öksürürken göğüs ağrısı\n",
    "- Balgam veya mukus üreten öksürük\n",
    "- Yorgunluk ve iştahsızlık\n",
    "- Ateş, terleme ve titreme\n",
    "- Bulantı, kusma ve ishal\n",
    "- Nefes darlığı\n",
    "\n",
    "Bu semptomlarla birlikte, yaşlılar ve bağışıklık sistemi zayıf olan insanlarda kafa karışıklığı, zihinsel değişiklikler veya normalden daha düşük bir vücut görülebilir. Yenidoğan ve bebeklerde herhangi bir enfeksiyon belirtisi görülmeyebileceği gibi kusma, ateş, öksürük ve halsizlik görülebilir.\n",
    "\n",
    "** Dikkat Lütfen ** Yeni bir öksürük, ateş veya nefes darlığı şikayetiniz varsa, COVID-19 olup olmadığınızı anlamak için doktorunuzu arayın. COVID-19 hastalığı pnömoniye de neden olabilir."
   ]
  },
  {
   "cell_type": "markdown",
   "metadata": {},
   "source": [
    "Pnömoni tipik fiziksel belirtiler ve göğüs röntgeni kombinasyonuna dayanarak teşhis edilir. Normal yaşamsal bulguları ve normal akciğer muayenesi olan yetişkinlerde tanı olası değildir. Bununla birlikte, zatürre altında yatan nedenin doğrulanması zor olabilir, çünkü bakteriyel ve bakteriyel olmayan kökenleri ayırt edebilecek kesin bir test yoktur. Bu konudaki en olası sonuç bir doktorun genel izlenimi ve teşhisidir.\n",
    "\n",
    "Tanıda göğüs radyografisi sıklıkla kullanılır. Hafif hastalığı olan kişilerde, görüntüleme sadece potansiyel komplikasyonları olan, tedavi ile düzelmeyen veya nedeninin belirsiz olduğu hastalarda gereklidir. Bir kişi hastaneye yatmayı gerektirecek kadar hastaysa, göğüs radyografisi önerilir. Bulgular her zaman hastalığın ciddiyetine uymaz ve bakteriyel enfeksiyon ile viral enfeksiyon arasında güvenilir bir şekilde ayrılmaz."
   ]
  },
  {
   "cell_type": "markdown",
   "metadata": {},
   "source": [
    "Bu konu için iki farklı veri setimiz vardı. Birincisi yukarıdaki semptomlara evet / hayır cevaplarından oluşuyordu. Bir diğeri Göğüs Röntgeni görüntüleri idi. İlk yolu kullanmak yerine, X-Ray görüntüleri içeren etiketli bir veri kümesi kullanmaya karar verdik."
   ]
  },
  {
   "cell_type": "markdown",
   "metadata": {},
   "source": [
    "## Verinin Anlaşılması<a class=\"anchor\" id=\"data_understanding\"></a>"
   ]
  },
  {
   "cell_type": "markdown",
   "metadata": {},
   "source": [
    "Veri setimiz, Sınıflandırma için Etiketli Optik Koherens Tomografi (OCT) ve Göğüs Röntgeni Görüntüleridir.Bu projede, veri setindeki 2. sürümü kullandık. Bu veri kümesi UC San Diego Üniversitesi'nden hazırlanmıştır.\n",
    "\n",
    "**Açıklama**\n",
    "\n",
    "\"Derin öğrenme temelli sınıflandırma ve tedavi edilebilir insan hastalıklarının yönlendirilmesi\" bölümünde açıklanan ve analiz edilen doğrulanmış OCT ve Göğüs Röntgeni görüntülerinin veri seti, bir eğitim setine ve bağımsız hastaların test setine ayrılmıştır. OCT Görüntüler (hastalık) - (randomize hasta kimliği) - (bu hastanın görüntü numarası) olarak etiketlenir ve 4 dizine ayrılır: CNV, DME, DRUSEN ve NORMAL.Bu projede sadece röntgen görüntüleri kullandık."
   ]
  },
  {
   "cell_type": "markdown",
   "metadata": {},
   "source": [
    "**İçerik**\n",
    "\n",
    "Veri kümesi 3 klasör halinde düzenlemiştir (train, test, val) ve her görüntü kategorisi için alt klasörler içerir (Pnömoni / Normal). Toplam 5.856 X-Ray görüntüsü (JPEG) ve 2 kategori (Pnömoni / Normal) içermektedir.\n",
    "\n",
    "Göğüs röntgeni görüntülerinin analizi için tüm göğüs radyografileri başlangıçta tüm düşük kaliteli veya okunamayan taramaları kaldırarak kalite kontrolü açısından tarandı. Görüntüler için teşhisler daha sonra AI sistemini eğitmek için temizlenmeden önce iki uzman doktor tarafından derecelendirildi. Notlandırma hatalarını hesaba katmak için değerlendirme seti üçüncü bir uzman tarafından da kontrol edildi.\n",
    "\n",
    "|            | Normal Sayısı| Zatürre Sayısı  | Toplam|\n",
    "|------------|--------------|-----------------|-------|\n",
    "| Eğitim     | 1349         | 3883            | 5232  |\n",
    "| Test       | 234          | 390             | 624   |\n",
    "| Toplam     | 1583         | 4273            | 5856  |\n",
    "\n",
    "![](./sampleImages.png)"
   ]
  },
  {
   "cell_type": "markdown",
   "metadata": {},
   "source": [
    "**Veri seti klasor detayı**\n",
    "\n",
    "Dataset <br />\n",
    "&nbsp;&nbsp;|---->test <br />\n",
    "&nbsp;&nbsp;&nbsp;&nbsp;&nbsp;&nbsp;&nbsp;&nbsp;&nbsp;&nbsp;|-----> NORMAL<br>\n",
    "&nbsp;&nbsp;&nbsp;&nbsp;&nbsp;&nbsp;&nbsp;&nbsp;&nbsp;&nbsp;|----->PNEUMONIA<br>\n",
    "&nbsp;&nbsp;|---->train<br>\n",
    "&nbsp;&nbsp;&nbsp;&nbsp;&nbsp;&nbsp;&nbsp;&nbsp;&nbsp;&nbsp;|-----> NORMAL<br>\n",
    "&nbsp;&nbsp;&nbsp;&nbsp;&nbsp;&nbsp;&nbsp;&nbsp;&nbsp;&nbsp;|----->PNEUMONIA<br>\n"
   ]
  },
  {
   "cell_type": "markdown",
   "metadata": {},
   "source": [
    "## Verilerin Hazırlanması <a class=\"anchor\" id=\"data_preparation\"></a>"
   ]
  },
  {
   "cell_type": "markdown",
   "metadata": {},
   "source": [
    "Projede 3 farklı makine öğrenimi modeli kullandık. Bunlar, deneme yanılma yoluyla bizim tarafımızdan oluşturulan K-En Yakın Komşular (KNN), Konvolüsyon Sinir Ağı (CNN) ve 2014 yılında ImageNet yarışmasını kazanmak için kullanılan CNN mimarisi olan VGG16'dır. Burada sadece 2 ana model var diyebilirsiniz ancak bir sonraki bölümde neden 3 dediğimizi açıklayacağız. Yaptığımız araştırmalara dayanarak veri setimizi kodlamadan önce eğitim ve test olarak ayırdık.\n",
    "\n",
    "- Herhangi bir şey yapmadan önce veri kümesini bölme\n",
    "- Başlatılan her model için veri kümesini rastgele bölme\n",
    "\n",
    "İkinci seçeneğin kararlı olmadığını biliyoruz çünkü eğitilmiş görüntüler her koşu için değişiyor, ancak biz projemizde  3 farklı model kullandık ve bu modelleri sağlıklı bir şekilde karşılaştırabilmemiz için bütün resimlerin aynı sekilde dağıtılmış olması gerekiyor. Bu şekilde modeller arasında daha iyi analiz yaptık."
   ]
  },
  {
   "cell_type": "markdown",
   "metadata": {},
   "source": [
    "\n",
    "Kullandığımız veri kümesi neredeyse altı bin görüntüden oluşuyor. Görünülü veri setlerine uygulanabilen ön işleme yöntemleri sayısal veri kümelerine göre daha azdır. Görüntüler üzerinde ön işleme için birkaç seçeneğimiz var. Bunlar her görüntü için döndürme, kaydırma, kesme, yakınlaştırma, yeniden ölçekleme, parlaklıktır. Bu seçenekleri ayrı ayrı veya bir kaç tanesini aynı anda olacak sekilde kullandık. Ne yazık ki, bu değişiklikler tahmin sonuçlarımızı yükseltmedi. Bazı kombinasyonlar sonuçlarımızın doğruluğunu neredeyse yarıya düşürdü, kalan kombinasyonlar ise ilgili modelin en yüksek puanına yaklaştı, ancak hiç geçmedi. Hangi ön işlemenin doğruluk sonucumuzu nasıl etkilediğine bakalım.\n",
    "\n",
    "- ** Yatay Çevirme: ** Skoru önemli ölçüde etkilemedi.\n",
    "- ** Dikey Çevirme: ** Skoru olumsuz etkiledi. Skor neredeyse 10% azaldı.\n",
    "- ** Yakınlaştırma: ** 20% yakınlaştırmadan sonra puanda önemli bir düşüş meydana geldi\n",
    "- ** Vites değiştirme: ** Sağ-sol ve yukarı-aşağı yön gibi 2 seçeneği vardır. Sonuç üzerinde önemli bir etkisi olmadı\n",
    "- ** Rotasyon: ** 15% rotasyondan sonra, skorda önemli bir düşüş meydana geldi\n",
    "- ** Parlaklık: ** çok fazla arttırıldığında sonuçlarda önemli bir düşüş meydana geldi, aksi takdirde çok fazla bir etkisi olmadı. Parlaklık arttığında programın verdipi pnömoni tahmini arttı, çünkü Parlaklık arttığında koyulaşmalar azalır ve bu karartmalar sağlıklı bir akciğer için önemlidir. Akciğer ne kadar belirgin olursa o kadar sağlıklı demektir. Bu yüzden yanlış sonuç oranı arttı.\n",
    "- ** Yeniden ölçeklendirme: ** Eğitim hızını arttırdı :). Her model için sadece 1/255 ölçekleme parametresiyle bunu kullandık.\n",
    "- ** ZCA Beyazlatma ** Etkisi anlaşılmadı\n",
    "\n",
    "Bu ön işlemler sadece eğitim süremizi artırdı. Bu nedenle herhangi bir ön işleme kullanmadık."
   ]
  },
  {
   "cell_type": "markdown",
   "metadata": {},
   "source": [
    "## Modelleme <a class=\"anchor\" id=\"modeling\"></a>"
   ]
  },
  {
   "cell_type": "markdown",
   "metadata": {},
   "source": [
    "Bu projede 3 farklı model kullandık:\n",
    "- K-nearest Neighbours\n",
    "- Katmanlarını kendimiz tasarladığımız Convolutional Neural Network\n",
    "- VGG16. ImageNet-2014 yarışması için 2 Oxford Profesörü tarafından tasarlanmış CNN modeli"
   ]
  },
  {
   "cell_type": "markdown",
   "metadata": {},
   "source": [
    "## k-Nearest Neighbor(KNN) Sınıflandırması\n",
    "\n",
    "K-Nearest Neıghbor sınıflandırıcı açık ara en basit makine öğrenimi / görüntü sınıflandırma algoritmasıdır. O kadar basittir ki, aslında hiçbir şey “öğrenmez”.\n",
    "\n",
    "İçeride, bu algoritma sadece özellik vektörleri arasındaki mesafeye dayanır. Her bir resimle ilişkilendirilmiş etiketlerimiz vardır, böylece resim için bir kategori tahmin edebiliriz.\n",
    "\n",
    "Basitçe söylemek gerekirse, k-NN algoritması, bilinmeyen veri noktalarını, en yakın k örnekleri arasında en yaygın sınıfı bularak sınıflandırır. k'ye en yakın veri noktaları normal / pnömoni birer oy değerindedir ve en çok oyu alan kategori kazanır!\n",
    "\n",
    "![KNN Visualization](./knn_visualization.png)"
   ]
  },
  {
   "cell_type": "markdown",
   "metadata": {},
   "source": [
    "K-Nearest Neighbor sınıflandırmasını uygulayabilmemiz için mesafe hesaplaması yapmamız gerekir. En yaygın kullanılan yöntem **öklit mesafesidir:**\n",
    "$$d(p,q)=\\sqrt{\\sum_{i=1}^{N} (q_i-p_i)^2}$$\n",
    "Veri türünüze bağlı olarak diğer mesafe metrikleri / benzerlik işlevleri kullanılabilir (ki kare mesafesi genellikle dağıtımlar veya manhattan vb. İçin kullanılır). Bu proje için görüntüleri benzerlik açısından karşılaştırmak için Öklid mesafesini kullandık.\n",
    "\n"
   ]
  },
  {
   "cell_type": "markdown",
   "metadata": {},
   "source": [
    "**Projemizde KNN**\n",
    "\n",
    "İlk olarak KNN model üretimi için **scikit learn** kütüphanesinden yardım aldık. KNN modelini kullanabilmemiz için fotoğraftaki görsel bilgileri, numarik bilgilere çevirmemiz gerekiyordu. Bu yüzden **cv2** kütüphanesini kullanarak fotoğraflari özellik vektörlerine dönüştürdük. <em>image_to_feature_vector</em> fonksiyonu bu işlevi üstleniyor.\n",
    "\n",
    "<em> image_to_feature_vector </em> fonksiyonu, bir girdi görüntüsünü alıp sabit bir genişliğe ve yüksekliğe (boyutlar) yeniden biçimlendiren ve ardından RGB piksel yoğunluklarını tek bir sayı listesine düzleştiren son derece naif bir fonksiyondur. Bu, girdi görüntümüzün 32 x 32 piksele küçüleceği ve sırasıyla her Kırmızı, Yeşil ve Mavi bileşen için üç kanal verileceği demektir, ardından çıktı “özellik vektörü” 32 x 32 x 3 = 3.072 sayıların bir listesi olacaktır.\n",
    "\n",
    "Kullandığımız veri seti halihazırda bölünmüş olduğundan seti okuyup <em> X / Y_train / test </em> değişkenlerine kaydettik.\n",
    "\n",
    "Ardından oluşturduğumuz eğitim vektörlerini KNN model uzayına koyup test ettik. **K** değerini seçmek kolay olduğu halde en kolay yol olan brute force yolunu seçtik.1-NN ile 20-NN arası bütün değerleri seçip isabet oranlarını kaydettik."
   ]
  },
  {
   "cell_type": "markdown",
   "metadata": {},
   "source": [
    "**KNN Sonucu**\n",
    "\n",
    "İsabet oranının tahminimizden fazla çıkması bizim için bir sürpriz oldu. 60% gibi bir sonuç beklerken en iyi skorumuz 79.81% idi\n",
    "\n",
    "<img src=\"https://media.giphy.com/media/Lcn0yF1RcLANG/giphy.gif\" width=\"250\" height=\"250\"/>\n",
    "\n",
    "79.21% iyi bir sonuç olmasına ramen daha iyi yapabileceğimizi düşündügümüz için bir CNN modeli tasarlayıp bunun üzerinden devam etmeye karar verdik.\n"
   ]
  },
  {
   "cell_type": "markdown",
   "metadata": {},
   "source": [
    "## Convolutional Neural Network(CNN)"
   ]
  },
  {
   "cell_type": "markdown",
   "metadata": {},
   "source": [
    "Evrişimli Sinir Ağları (CNN'ler) veya ConvNets, görüntü ve ses tanıma ve sınıflandırma için yaygın olarak kullanılan sinir ağlarıdır. CNN'ler bir hayvan beyninin görsel korteksinin mimarisinden kaynaklanır. Çalışmalar, maymun ve kedinin görsel kortekslerinin, görsel alanın küçük alt alanlarına yanıt veren nöronlara sahip olduğunu göstermiştir. Her nöron, alıcı alan adı verilen görsel alanın küçük bir bölümünden sorumludur. Görsel korteksteki tüm nöronlar birlikte tüm görme alanını kaplayacaktır (Hubel, 1968).\n",
    "\n",
    "Tüm yaygın sinir ağları gibi, CNN'ler de ayarlanabilir ağırlık ve sapmalara sahip nöronlara sahiptir. Normal sinir ağları tamamen bağlıdır, yani her bir nöron bir önceki katmandaki her nörona bağlanır. Yine de CNN'ler normal sinir ağları gibi tam olarak bağlı değildir. Bu, hesaplama süresini arttıracağından ve istenen sonuçları elde etmek için gerekli olmadığından tam olarak bağlamamıştır. Tam girişli bir sinir ağı kullanmak, büyük giriş boyutlarına sahip görüntü verileriyle uğraşırken çok verimli olmaz. Çok sayıda parametreyi hayal etmek için, göğüs röntgeni görüntülerimizi düşünün. Bu görüntüler, 3 renk kanalı ile 64x64x3 veya 64 geniş, 64 yüksek giriş şekline sahip olacaktır. Tamamen bağlı bir sinir ağı kullanılacaksa, bu, tek bir gizli katmandaki tek bir nöronun 12,288 bağlantıdan (64 x 64 x 3 = 12,288) oluşacağı anlamına gelir. Bu sadece bir tam bağlı nöron ile. Birçok nöron ile bir sinir ağındaki tüm ağırlıkların sayısını hayal edin! Tam olarak bağlı sinir ağlarının neden görüntüleri sınıflandırmanın en etkili yöntemi olmadığını anlamak kolaydır. CNN mimarisinin aslında birkaç tam bağlı katman (lar) içermesi dışında CNN'lerin işe yaradığı yer burasıdır.\n",
    "\n",
    "Tüm sinir ağları gibi, CNN'ler de bir aktivasyon fonksiyonu, tipik olarak ReLu uygulayacak bir dizi gizli katmana sahip bir giriş ve çıkış katmanına sahiptir. Bir CNN tasarımı üç ana katmandan oluşur: The convolutional layer, the pooling layer, ve the fully connected layer. Her katman aşağıda ele alınacaktır."
   ]
  },
  {
   "cell_type": "markdown",
   "metadata": {},
   "source": [
    "**Convolutional Layer**\n",
    "\n",
    "Evrişimsel katman, girdi verilerinden özelliklerin bulunmasından ve çıkarılmasından sorumludur. Evrişimli katmanlar, bu özellik çıkarma işlemi için çekirdek olarak da adlandırılan filtreler kullanır. Bir kıvrımlı katman, bu filtreleri ağırlıkların ve girdilerin nokta çarpımını hesaplarken giriş boşluğu etrafında kaydırarak kıvrılır. Filtre içindeki pikseller, alıcı alanın tamamını temsil edecek tek bir değere dönüştürülür.\n",
    "\n",
    "Bizim durumumuzda katmanlarda hangi aktivasyon fonksiyonunun kullanılması gerektiğine karar verdik.Kullanabileceğimiz ReLu, tanh, sigmoid ve benzeri birçok aktivasyon fonksiyonu vardır. Projemizdeki evrişim katmanlarımızda ReLu kullandık.\n",
    "\n",
    "\n",
    "![](./activation_functions.png)\n"
   ]
  },
  {
   "cell_type": "markdown",
   "metadata": {},
   "source": [
    "**Pooling Layer**\n",
    "\n",
    "Aşağı örnekleme katmanları olarak da bilinen havuzlama katmanları çoğunlukla sinir ağının evrişimli katmanlarının ardından görülür. Havuzlama katmanının görevi, girdinin uzamsal boyutunu azaltmaktır. Bu, daha az sayıda parametreye neden olur ve ayrıca modelimizin genelleştirmesine ve overfittingden kaçınmasına yardımcı olur. Maksimum havuzlama, ortalama havuzlama, küresel havuzlama gibi birkaç havuzlama türü vardır. Bu projede maxpooling kullandık.\n",
    "\n",
    "![](./Pooling_Simple_max.png)\n",
    "\n",
    "\n",
    "**Max Pooling:** Katlamalı katman(Convolutional layer), giriş içindeki bir bölgede belirli bir özellik bulur ve ona daha yüksek bir etkinleştirme değeri atar. Havuzlama katmanı daha sonra bu bölgeyi azaltır ve yeni bir sunum oluşturur. Maksimum havuzlama katmanı, esas olarak, her bir alt bölgede bulunan maksimum değerleri kullanarak orijinal bölgenin bir soyutlamasını oluşturur."
   ]
  },
  {
   "cell_type": "markdown",
   "metadata": {},
   "source": [
    "**Dense Layer**\n",
    "\n",
    "Dense layer sadece bir sinir ağındaki normal bir nöron tabakasıdır. Her bir nöron, önceki tabakadaki tüm nöronlardan girdi alır, böylece yoğun bir şekilde bağlanır. Tabaka bir ağırlık matrisi **W**, bir bias vektörü **b** ve önceki katmanın **a** aktivasyonlarına sahiptir. Aşağıdaki keras belgelerinden Dense sınıfının öğretisidir:\n",
    "\n",
    "<em>output = activation(dot(input, kernel) + bias)</em> burada activation aktivasyon argümanı olarak iletilen eleman-bazlı aktivasyon fonksiyonudur, kernel katman tarafından oluşturulan bir ağırlık matrisidir ve bias katman tarafından oluşturulan bir sapma vektörüdür."
   ]
  },
  {
   "cell_type": "markdown",
   "metadata": {},
   "source": [
    "**Dropout Layer**\n",
    "\n",
    "Dropout, Overfitting ile mücadele etmek için kullanılan bir tekniktir. Keras.layers modülündeki Bırakma yöntemi, nöronların düşecek kısmı olan 0 ile 1 arasında bir şamandıra alır. Aşağıda, Belgelerden Bırakma yönteminin öğretisi verilmiştir:\n",
    "\n",
    "Bırakma, eğitim süresi boyunca her bir güncellemede giriş birimlerinin kesir oranını rastgele olarak 0'a ayarlayarak overfittingi önlemeye yardımcı olur."
   ]
  },
  {
   "cell_type": "markdown",
   "metadata": {},
   "source": [
    "**Tasarladığımız CNN Katmanları**\n",
    "\n",
    "|Layer (type)| Output Shape | Param # |\n",
    "|------------|--------------|-----------------|\n",
    "| conv_1 (Conv2D) | (None, 62, 62, 32)         | 896 |\n",
    "| max_pooling2d_1 (MaxPooling2D)| (None, 31, 31, 32)          | 0 |\n",
    "| conv_2 (Conv2D) | (None, 29, 29, 64)         | 18496            |\n",
    "| max_pooling2d_2 (MaxPooling2D)| (None, 14, 14, 64)          | 0             |\n",
    "| flatten_1 (Flatten) | (None, 12544)         | 0            |\n",
    "| dense_1 (Dense)| (None, 128)          | 1605760             |\n",
    "| dropout_1 (Dropout) | (None, 128)         | 3883            |\n",
    "| dense_2 (Dense)| (None, 1)          | 129             |\n",
    "\n",
    "| |\n",
    "|-|\n",
    "|Total params: 1,625,281|\n",
    "|Trainable params: 1,625,281|\n",
    "|Non-trainable params: 0|"
   ]
  },
  {
   "cell_type": "markdown",
   "metadata": {},
   "source": [
    "Bu yöntemden elde ettiğimiz en iyi sonuç 81.70%. Ama denemeyi bırakmadık çünkü bu sonuç da bizi tatmin etmemişti. En azından 90% sonuç alabileceğimizi düşündük, görsel katmanlama üzerine daha çok araştırma yaptıktan sonra VGG16 yı bulduk ve kodladık.\n",
    "\n",
    "<img src=\"https://media.giphy.com/media/3o752cDjsI0SB4zdfy/giphy.gif\" width=\"200\" height=\"200\"/>"
   ]
  },
  {
   "cell_type": "markdown",
   "metadata": {},
   "source": [
    "## VGG16"
   ]
  },
  {
   "cell_type": "markdown",
   "metadata": {},
   "source": [
    "Uygulamalarımızdan birinde VGG-16 kullandık. VGG-16, 2014 yılında bir görüntü işleme yarışması kazanmak için kullanılan bir CNN mimarisidir. Bu mimari, o zamanın en iyi görüntü işleme mimarisinden biri olarak kabul edilir.\n",
    "\n",
    "Giriş sabit ve 224 x 224 RGB görüntü formatında. Daha sonra görüntü, filtrelerin 3x3 alıcı bir alanla kullanıldığı bir evrişim katmanları kümesini geçer. Bu, dikey, yatay ve merkez yakalamak için en küçük boyuttur.\n",
    "\n",
    "Üç FC katmanı bir yığın evrişim katmanını takip eder. İlk ikisi 4096 kanala sahiptir, üçüncüsü 100 yollu ILSVRC sınıflandırmasına sahiptir ve toplam 1000 sınıf olacak şekilde her sınıf için bir tane içerir. Son katman ise soft-max katmanıdır. Bağlı katmanların yapılandırması tüm ağlarda aynıdır.\n",
    "\n",
    "Tüm gizli katmanlar doğrusal olmayan ReLU ile donatılmıştır.\n",
    "Bu mimarinin en büyük dezavantajı, veriyi eğitmenin çok fazla zaman alması ve ağın çok büyük boyutta olmasıdır.\n",
    "Mimarlığın görsel temsilini aşağıda görebilirsiniz."
   ]
  },
  {
   "cell_type": "markdown",
   "metadata": {},
   "source": [
    "<img src=\"./vgg16-visulation.jpg\" height=\"50\" width=\"800\">\n",
    "<img src=\"./vgg16-layers.png\" height=\"50\" width=\"800\">"
   ]
  },
  {
   "cell_type": "markdown",
   "metadata": {},
   "source": [
    "VGG16 ile sonunda 90% üzerinde skor almayı başardık!\n",
    "\n",
    "<img src=\"https://media.giphy.com/media/yoJC2GnSClbPOkV0eA/giphy.gif\" width=\"300\" height=\"300\"/>"
   ]
  },
  {
   "cell_type": "markdown",
   "metadata": {},
   "source": [
    "## Değerlendirme <a class=\"anchor\" id=\"evaluation\"></a>"
   ]
  },
  {
   "cell_type": "markdown",
   "metadata": {},
   "source": [
    "Teklif raporunda belirlediğimiz yola bağlı kaldık. İlk olarak, en yakın K komşu yöntemiyle pnömoniyi saptamaya çalıştık. KNN'den şaşırtıcı derecede güzel bir puan aldık ve bu bizi daha iyisini yapmamız için ilham verdi. Sonra, göğüs röntgeni görüntülerinden hasta insanları tahmin etmek için kıvrımlı bir sinir ağı tasarlamaya başladık. Çok fazla kaynak araştırdık ve sadece 2 gizli katmandan oluşan küçük bir CNN tasarladık. KNN'den daha iyiydik ama yine de istediğimiz puanı elde edememiştik. Bu yüzden çok çalıştık ve yeni şeyler öğrendik. AI dünyasında rekabet için hazırlanmış bir model vardı. VGG16'yı seçtik ve modelinin katmanlarını inceledik, uyguladık. Sonunda istediğimiz puanı aldık, başardık.\n",
    "\n",
    "\n",
    "| Model |İsabet Oranı |\n",
    "|-------|------|\n",
    "|KNN|65-78%|\n",
    "|CNN|75-82%|\n",
    "|VGG16|80-92%|\n",
    "\n",
    "\n"
   ]
  },
  {
   "cell_type": "markdown",
   "metadata": {},
   "source": [
    "\n",
    "Sonuçlarımızı iyileştirmek için birçok parametreyi değiştirdik. Her şeyden önce, görüntüleri döndürme, yakınlaştırma, renk / parlaklık ve kırpma değiştirecek şekilde ayarladık. Sonuç olarak, doğrulukta gözle görülür bir gelişme olmadı. Bu nedenle, aşağıdaki gibi diğer eğitim modeli parametrelerine odaklandık:\n",
    "\n",
    "- **Görüntü Giriş boyutu:** Boyut büyüdükçe, modeli eğitmek daha fazla zaman aldı.\n",
    "- **Epoch Sayısı:** Etki modele bağlıdır. Örneğin, tasarladığımız CNN modelimiz 20 Epochdan sonra overfitting yapmaya  başladı.\n",
    "- **Karıştırma:** Veri setimizi overfitting modelinin bir sonucu olarak çalışma zamanından önce ayırıyoruz. Model 1349 normal göğüs görüntüsü alir ve sadece normal görselleri öğrenir, ardından 3883 pnömoni görselini alır ve ağın kafası karışır. Bunu nasıl anladık? Doğruluk grafiğimize baktığımızda,grafik sekli bir dönem iyi oran, bir dönem kötü oran şeklinde değişti."
   ]
  },
  {
   "cell_type": "markdown",
   "metadata": {},
   "source": [
    "### Aldığımız Sonuçlar\n",
    "\n",
    "**KNN Sonucu**\n",
    "\n",
    "![KNN Result](./knnresult.png)\n",
    "\n",
    "En iyi sonucu elde etmek için en yakın 2 komşuları almalıyız. Bu şekilde 79.81% isabet elde edebiliriz."
   ]
  },
  {
   "cell_type": "markdown",
   "metadata": {},
   "source": [
    "**CNN Sonucu**\n",
    "\n",
    "![KNN Result](./cnnAcc.png)\n",
    "![KNN Loss](./cnnLoss.png)\n",
    "\n",
    "Girdi görsel boyutu 64x64 olarak alınmış halde 8. epochda 81.70% isabet elde ettik."
   ]
  },
  {
   "cell_type": "markdown",
   "metadata": {},
   "source": [
    "**VGG 16 Sonucu**\n",
    "\n",
    "Bu yöntemde üzerinde değişiklik yapabileceğimiz çok bir opsiyom yok idi. Genel olarak epoch sayıları ve fotograf boyutlarını değiştirip test yaptık. Bu model çok ağır olduğudan sadece küçük boyutlu görseller ile çalışma yaptık. (Tam götsel boyutunda 1 epoch eğitmek macbook Pro 2017 2.3 GHZ Intel Core i5 işlemcisi üzerinde 1 saatten fazla zaman alıyor.)\n",
    "\n",
    "En iyi aldığımız skor 91.48. Parametreler :\n",
    "\n",
    "Fotoğraf boyutu:64 x 64\n",
    "Epoch sayısı: 50. En iyi skoru aldığımız epoch numarası 41.\n",
    "Eğitme zamanı: Epoch başına yaklaşık 400 saniye.\n",
    "\n",
    "<img src=\"./vgg16res.png\" height=\"50\" width=\"400\">\n",
    "<img src=\"./vgg16loss.png\" height=\"50\" width=\"400\">"
   ]
  },
  {
   "cell_type": "markdown",
   "metadata": {},
   "source": [
    "\n",
    "# Bilgisayar Neyi Nasıl Görüyor?\n",
    "\n",
    "Biz oluşturduğumuz nöral ağa hangi resmi atıp çıktı olarak ne veridğini görebiliyoruz peki gizli katmanlarda neler oluyor. Bunu merak ettiğimiz için biraz araştırma yaptık ve ara katman çıktılarının nasıl görselleştirileceğini bulduk. Diğer bir deyişle, bu ara katman çıktıları bilgisayarın görüntüyü nasıl gördüğü anlamına geliyor.\n",
    "\n",
    "\n",
    "![](./modelvision.png)\n",
    "\n",
    "WoooooW CNN'in göğüs röntgeni görüntülerinde nasıl tespit ettiğini ve bilgileri bir katmandan diğerine nasıl taşıdığını görselleştirdik. Yukarıdaki görüntü bize hangi katmanın neye odaklandığını göstermektedir. Şimdi inceleyelim:\n",
    "- İlk katman iskelet sisteminin tam şekline odaklanmıştır.\n",
    "- Gördüğünüz gibi, bilgisayar ikinci katmanda akciğerlere odaklandı.\n"
   ]
  },
  {
   "cell_type": "markdown",
   "metadata": {},
   "source": [
    "## Referanslar<a class=\"anchor\" id=\"references\"></a>"
   ]
  },
  {
   "cell_type": "markdown",
   "metadata": {},
   "source": [
    "**Problem**<br>\n",
    "https://en.wikipedia.org/wiki/Pneumonia <br>\n",
    "https://www.who.int/news-room/fact-sheets/detail/pneumonia<br>\n",
    "\n",
    "**Veri seti**<br>\n",
    "https://data.mendeley.com/datasets/rscbjbr9sj/2 : Veri kümesinin açık bağlantısı<br>\n",
    "https://www.kaggle.com/paultimothymooney/chest-xray-pneumonia : Bu veri kümesinin kullanıldığı Kaggle yarışması<br>\n",
    "\n",
    "**Problemi Çözümü İçin**<br>\n",
    "https://keras.io/api/ <br>\n",
    "https://towardsdatascience.com/a-comprehensive-guide-to-convolutional-neural-networks-the-eli5-way-3bd2b1164a53 : CNN Nedir?<br>\n",
    "https://towardsdatascience.com/visualizing-intermediate-activation-in-convolutional-neural-networks-with-keras-260b36d60d0 : Ara katman bilgisyar görüsü<br>\n",
    "https://towardsdatascience.com/step-by-step-vgg16-implementation-in-keras-for-beginners-a833c686ae6c : VGG16 Nedir?<br>\n"
   ]
  },
  {
   "cell_type": "markdown",
   "metadata": {},
   "source": [
    "<img src=\"https://media.giphy.com/media/26u4lOMA8JKSnL9Uk/giphy.gif\" width=\"200\" height=\"200\"/>"
   ]
  }
 ],
 "metadata": {
  "kernelspec": {
   "display_name": "Python 3",
   "language": "python",
   "name": "python3"
  },
  "language_info": {
   "codemirror_mode": {
    "name": "ipython",
    "version": 3
   },
   "file_extension": ".py",
   "mimetype": "text/x-python",
   "name": "python",
   "nbconvert_exporter": "python",
   "pygments_lexer": "ipython3",
   "version": "3.7.7"
  }
 },
 "nbformat": 4,
 "nbformat_minor": 2
}
